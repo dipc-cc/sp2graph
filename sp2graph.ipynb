{
 "cells": [
  {
   "cell_type": "code",
   "execution_count": 1,
   "metadata": {},
   "outputs": [],
   "source": [
    "from __future__ import print_function\n",
    "import numpy as np\n",
    "import matplotlib.pyplot as plt"
   ]
  },
  {
   "cell_type": "code",
   "execution_count": 2,
   "metadata": {},
   "outputs": [],
   "source": [
    "syscoord = 'examples/phenanthrene_rot.xyz'"
   ]
  },
  {
   "cell_type": "code",
   "execution_count": 4,
   "metadata": {},
   "outputs": [
    {
     "name": "stdout",
     "output_type": "stream",
     "text": [
      "[[ 17.16445541  17.58357048   5.55602074]\n",
      " [ 18.42306328  18.00691223   5.99951077]\n",
      " [ 20.75399208  12.44073296   6.90748644]\n",
      " [ 22.01259995  12.86407661   7.35097647]\n",
      " [ 17.55612373  13.90518761   5.74601412]\n",
      " [ 18.52575302  12.96128845   6.10500526]\n",
      " [ 19.78436279  13.38463211   6.54849529]\n",
      " [ 20.07334137  14.75187397   6.63299417]\n",
      " [ 21.33195114  15.17521667   7.0764842 ]\n",
      " [ 22.30158043  14.23131847   7.43547535]\n",
      " [ 16.87547493  16.21632767   5.47152185]\n",
      " [ 17.84510422  15.27242947   5.830513  ]\n",
      " [ 19.10371399  15.69577217   6.27400303]\n",
      " [ 19.39269257  17.06301498   6.35850191]]\n"
     ]
    }
   ],
   "source": [
    "# Read the geometry (only Cs)\n",
    "f = open(syscoord)\n",
    "for l in f:\n",
    "    row = l.split()\n",
    "    nV = int(row[0])\n",
    "    next(f)\n",
    "    break\n",
    "V = np.empty(shape=[0,3])\n",
    "for l in f:\n",
    "    row = l.split()\n",
    "    if row[0] == 'C':\n",
    "        V = np.append(V, [[row[1], row[2], row[3]]], axis=0)\n",
    "f.close()\n",
    "V = V.astype(np.float32)\n",
    "nV = len(V)\n",
    "print(V)"
   ]
  },
  {
   "cell_type": "code",
   "execution_count": 5,
   "metadata": {},
   "outputs": [
    {
     "name": "stdout",
     "output_type": "stream",
     "text": [
      "[[ 22.50804138 -11.31197834]\n",
      " [ 23.90803909 -11.31197739]\n",
      " [ 24.60804558  -5.24980116]\n",
      " [ 26.00804329  -5.24980259]\n",
      " [ 21.80804443  -7.67467022]\n",
      " [ 22.50804138  -6.46223545]\n",
      " [ 23.90804672  -6.4622364 ]\n",
      " [ 24.60803986  -7.67467308]\n",
      " [ 26.00804329  -7.67467308]\n",
      " [ 26.70804405  -6.46223831]\n",
      " [ 21.80804062 -10.09954071]\n",
      " [ 22.5080452   -8.8871069 ]\n",
      " [ 23.90804291  -8.8871069 ]\n",
      " [ 24.60803986 -10.09954453]]\n"
     ]
    }
   ],
   "source": [
    "# rotate to the xy plane if needed\n",
    "def unitA(array):\n",
    "    \"\"\" Returns the unit array \"\"\"\n",
    "    return array / np.linalg.norm(array)\n",
    "\n",
    "def angleA(a1, a2):\n",
    "    \"\"\" Returns the angle in radians between arrays 'a1' and 'a2' \"\"\"\n",
    "    a1_u = unitA(a1)\n",
    "    a2_u = unitA(a2)\n",
    "    return np.arccos(np.clip(np.dot(a1_u, a2_u), -1.0, 1.0))\n",
    "\n",
    "def xyprojA(array):\n",
    "    \"\"\" Returns the an equiarrayalent 2D structure rotated to the xy plane \"\"\"\n",
    "    u1 = unitA(array[1]-array[0])\n",
    "    u2 = array[2]-array[0]\n",
    "    u3 = unitA(np.cross(u1, u2))\n",
    "    u2 = unitA(np.cross(u3, u1))\n",
    "    proj = np.linalg.inv([u1, u2, u3])\n",
    "    array = np.matmul(array, proj)\n",
    "    if np.max(array[:,2])-np.min(array[:,2]) > 0.01:\n",
    "        raise ValueError('Structure is not planar!')\n",
    "    return np.delete(array, 2, axis=1)\n",
    "\n",
    "V = xyprojA(V)\n",
    "print(V)"
   ]
  },
  {
   "cell_type": "code",
   "execution_count": 6,
   "metadata": {},
   "outputs": [
    {
     "data": {
      "image/png": "[encoded data removed]",
      "text/plain": [
       "<Figure size 288x720 with 1 Axes>"
      ]
     },
     "metadata": {},
     "output_type": "display_data"
    }
   ],
   "source": [
    "def viewV(V):\n",
    "    \"\"\" Visualize the vertices \"\"\"\n",
    "    fig, axs = plt.subplots(figsize=(4, 10))\n",
    "    for i in range(len(V)):\n",
    "        axs.scatter(V[i,0],V[i,1], s=200, c='b', marker=r\"$ {} $\".format(str(i)), edgecolors='none')\n",
    "        axs.scatter(V[i,0],V[i,1], s=1000, c='b', alpha=.5)\n",
    "    axs.set_xlim(min(V[:,0])-2., max(V[:,0])+2.)\n",
    "    axs.set_ylim(min(V[:,1])-2., max(V[:,1])+2.)\n",
    "    axs.set_xlabel('x [Ang]')\n",
    "    axs.set_ylabel('y [Ang]')\n",
    "    axs.set_aspect('equal')\n",
    "    \n",
    "viewV(V)"
   ]
  },
  {
   "cell_type": "code",
   "execution_count": 7,
   "metadata": {},
   "outputs": [
    {
     "name": "stdout",
     "output_type": "stream",
     "text": [
      "  0 1 2 3 4 5 6 7 8 910111213\n",
      "[[0 1 0 0 0 0 0 0 0 0 1 0 0 0]\n",
      " [1 0 0 0 0 0 0 0 0 0 0 0 0 1]\n",
      " [0 0 0 1 0 0 1 0 0 0 0 0 0 0]\n",
      " [0 0 1 0 0 0 0 0 0 1 0 0 0 0]\n",
      " [0 0 0 0 0 1 0 0 0 0 0 1 0 0]\n",
      " [0 0 0 0 1 0 1 0 0 0 0 0 0 0]\n",
      " [0 0 1 0 0 1 0 1 0 0 0 0 0 0]\n",
      " [0 0 0 0 0 0 1 0 1 0 0 0 1 0]\n",
      " [0 0 0 0 0 0 0 1 0 1 0 0 0 0]\n",
      " [0 0 0 1 0 0 0 0 1 0 0 0 0 0]\n",
      " [1 0 0 0 0 0 0 0 0 0 0 1 0 0]\n",
      " [0 0 0 0 1 0 0 0 0 0 1 0 1 0]\n",
      " [0 0 0 0 0 0 0 1 0 0 0 1 0 1]\n",
      " [0 1 0 0 0 0 0 0 0 0 0 0 1 0]]\n"
     ]
    }
   ],
   "source": [
    "# connect first neighbours vetices\n",
    "def closeV(iv, V, rad):\n",
    "    \"\"\" Returns an array off 1st neighbours indexes \"\"\"\n",
    "    idx = np.empty(shape=[0], dtype=np.int32)\n",
    "    for i in range(iv):\n",
    "        if np.linalg.norm(V[i]-V[iv]) < rad:\n",
    "            idx = np.append(idx, [[i]])\n",
    "    for i in range(iv+1,len(V)):\n",
    "        if np.linalg.norm(V[i]-V[iv]) < rad:\n",
    "            idx = np.append(idx, [[i]])\n",
    "    return idx\n",
    "\n",
    "def printG(G):\n",
    "    \"\"\" Print out the adjacent matrix \"\"\"\n",
    "    print(' ', end='')\n",
    "    for i in range(len(G)):\n",
    "        print('%2d'%i, end='')\n",
    "    print('')\n",
    "    print(G)\n",
    "\n",
    "def adjG(V):\n",
    "    \"\"\"\n",
    "    Returns the adjacent matrix from the first\n",
    "    neighbours analylis from the vertices in V\n",
    "    \"\"\"\n",
    "    nV = len(V)\n",
    "    G = np.zeros(shape=[nV, nV], dtype=np.uint8)\n",
    "    for i in range(nV):\n",
    "        # list nearest neighbours\n",
    "        idx = closeV(i, V, 1.43)\n",
    "        # connect nearest neighbours\n",
    "        G[i, idx] = 1\n",
    "    return G\n",
    "\n",
    "def adjsiG(V):\n",
    "    \"\"\"\n",
    "    Returns the adjacent matrix from the first\n",
    "    neighbours analylis from the vertices in V\n",
    "    and include \"self-interaction\" term\n",
    "    \"\"\"\n",
    "    nV = len(V)\n",
    "    G = np.zeros(shape=[nV, nV], dtype=np.uint8)\n",
    "    for i in range(nV):\n",
    "        # list nearest neighbours\n",
    "        idx = closeV(i, V, 1.43)\n",
    "        # connect nearest neighbours\n",
    "        G[i, idx] = 1\n",
    "        # put 1 in the diagonal when necessary\n",
    "        G[i, i] = 3-len(idx)\n",
    "    return G\n",
    "\n",
    "def degreeV(V):\n",
    "    \"\"\"\n",
    "    Returns an array with the vertices\n",
    "    degree (2 or 3 in our case)\n",
    "    \"\"\"\n",
    "    nV = len(V)\n",
    "    G = adjG(V)\n",
    "    degV = np.zeros(shape=[nV], dtype=np.uint8)\n",
    "    for i in range(nV):\n",
    "        degV[i] = np.sum(G[i])\n",
    "    return degV\n",
    "\n",
    "G = adjG(V)\n",
    "printG(G)"
   ]
  },
  {
   "cell_type": "code",
   "execution_count": 8,
   "metadata": {},
   "outputs": [],
   "source": [
    "# band-width reduction\n",
    "def swapV(G, V, i1, i2):\n",
    "    \"\"\" Swap vertices \"\"\"\n",
    "    # swap vertices coordinates\n",
    "    V[[i1,i2],:] = V[[i2,i1],:]\n",
    "    # swap columns\n",
    "    G[:,[i1,i2]] = G[:,[i2,i1]]\n",
    "    # swap rows\n",
    "    G[[i1,i2],:] = G[[i2,i1],:]\n",
    "\n",
    "def bandredG(G, V):\n",
    "    \"\"\" Naive implementation of band reduction algorithm \"\"\"\n",
    "    printG(G)\n",
    "    nV = len(V)\n",
    "    for i in range(nV-3):\n",
    "        for j in range(nV-1,i+2,-1):\n",
    "            if G[i,j]:\n",
    "                idx = i+2\n",
    "                while G[i,idx]:\n",
    "                    idx -= 1\n",
    "                print(idx,j)\n",
    "                swapV(G, V, idx, j)\n",
    "                printG(G)\n",
    "    return G\n",
    "\n",
    "#G = bandredG(G, V)"
   ]
  },
  {
   "cell_type": "code",
   "execution_count": 9,
   "metadata": {},
   "outputs": [
    {
     "data": {
      "image/png": "[encoded data removed]",
      "text/plain": [
       "<Figure size 288x720 with 1 Axes>"
      ]
     },
     "metadata": {},
     "output_type": "display_data"
    }
   ],
   "source": [
    "viewV(V)"
   ]
  },
  {
   "cell_type": "code",
   "execution_count": 10,
   "metadata": {},
   "outputs": [
    {
     "name": "stdout",
     "output_type": "stream",
     "text": [
      "  0 1 2 3 4 5 6 7 8 910111213\n",
      "[[0 1 0 0 0 0 0 0 0 0 1 0 0 0]\n",
      " [1 0 0 0 0 0 0 0 0 0 0 0 0 1]\n",
      " [0 0 0 1 0 0 1 0 0 0 0 0 0 0]\n",
      " [0 0 1 0 0 0 0 0 0 1 0 0 0 0]\n",
      " [0 0 0 0 0 1 0 0 0 0 0 1 0 0]\n",
      " [0 0 0 0 1 0 1 0 0 0 0 0 0 0]\n",
      " [0 0 1 0 0 1 0 1 0 0 0 0 0 0]\n",
      " [0 0 0 0 0 0 1 0 1 0 0 0 1 0]\n",
      " [0 0 0 0 0 0 0 1 0 1 0 0 0 0]\n",
      " [0 0 0 1 0 0 0 0 1 0 0 0 0 0]\n",
      " [1 0 0 0 0 0 0 0 0 0 0 1 0 0]\n",
      " [0 0 0 0 1 0 0 0 0 0 1 0 1 0]\n",
      " [0 0 0 0 0 0 0 1 0 0 0 1 0 1]\n",
      " [0 1 0 0 0 0 0 0 0 0 0 0 1 0]]\n",
      "[13 12  9  8  7  3  2  6  5  4 11 10  1  0]\n",
      "[13 12  9  8  7  3  2  6  5  4 11 10  1  0]\n",
      "  0 1 2 3 4 5 6 7 8 910111213\n",
      "[[0 1 0 0 0 0 0 0 0 0 0 0 1 0]\n",
      " [1 0 0 0 1 0 0 0 0 0 1 0 0 0]\n",
      " [0 0 0 1 0 1 0 0 0 0 0 0 0 0]\n",
      " [0 0 1 0 1 0 0 0 0 0 0 0 0 0]\n",
      " [0 1 0 1 0 0 0 1 0 0 0 0 0 0]\n",
      " [0 0 1 0 0 0 1 0 0 0 0 0 0 0]\n",
      " [0 0 0 0 0 1 0 1 0 0 0 0 0 0]\n",
      " [0 0 0 0 1 0 1 0 1 0 0 0 0 0]\n",
      " [0 0 0 0 0 0 0 1 0 1 0 0 0 0]\n",
      " [0 0 0 0 0 0 0 0 1 0 1 0 0 0]\n",
      " [0 1 0 0 0 0 0 0 0 1 0 1 0 0]\n",
      " [0 0 0 0 0 0 0 0 0 0 1 0 0 1]\n",
      " [1 0 0 0 0 0 0 0 0 0 0 0 0 1]\n",
      " [0 0 0 0 0 0 0 0 0 0 0 1 1 0]]\n"
     ]
    }
   ],
   "source": [
    "def revCMKbandredG(G, V):\n",
    "    \"\"\" Reverse Cuthill-McKee algorithm implementation for band reduction \"\"\"\n",
    "    printG(G)\n",
    "    nV = len(V)\n",
    "\n",
    "    # vertices degrees\n",
    "    degV = degreeV(V)\n",
    "    # sorted with increasing degree\n",
    "    sdegV = np.argsort(degV)\n",
    "\n",
    "    # result and queue arrays\n",
    "    rslt = np.empty(shape=[0], dtype=np.uint8)\n",
    "    queue = np.empty(shape=[0], dtype=np.uint8)\n",
    "    while len(rslt) < nV:\n",
    "        # remove elements already in rslt\n",
    "        mask = np.in1d(sdegV, rslt, invert=True)\n",
    "        sdegV = sdegV[mask]\n",
    "        # append the vertex with lower degree\n",
    "        rslt = np.append(rslt, sdegV[0])\n",
    "        # get neighbours\n",
    "        ngbr = np.where(G[sdegV[0],:] == 1)[0]\n",
    "        # order with increasing degree\n",
    "        ngbrdeg = np.take(degV, ngbr)\n",
    "        idx = np.unravel_index(np.argsort(ngbrdeg), ngbrdeg.shape)\n",
    "        ngbr = ngbr[idx]\n",
    "        # remove those already in rslt\n",
    "        mask = np.in1d(ngbr, rslt, invert=True)\n",
    "        ngbr = ngbr[mask]\n",
    "        # insert neighbours in the queue\n",
    "        queue = np.append(queue, ngbr)\n",
    "        # remove those already in the queue\n",
    "        queue = np.unique(queue)\n",
    "        #print('r',rslt)\n",
    "        #print('q',queue)\n",
    "        \n",
    "        while len(queue) > 0:\n",
    "            rslt = np.append(rslt, queue[0])\n",
    "            # get neighbours\n",
    "            ngbr = np.where(G[queue[0],:] == 1)[0]\n",
    "            # order with increasing degree\n",
    "            ngbrdeg = np.take(degV, ngbr)\n",
    "            idx = np.unravel_index(np.argsort(ngbrdeg), ngbrdeg.shape)\n",
    "            ngbr = ngbr[idx]\n",
    "            # remove those already in rslt\n",
    "            mask = np.in1d(ngbr, rslt, invert=True)\n",
    "            ngbr = ngbr[mask]\n",
    "            # remove the unqueued\n",
    "            queue = np.delete(queue, 0)\n",
    "            # insert neighbours in the queue\n",
    "            queue = np.append(queue, ngbr)\n",
    "            # remove those already in the queue\n",
    "            queue = np.unique(queue)\n",
    "            #print('r',rslt)\n",
    "            #print('q',queue)\n",
    "\n",
    "    print(rslt[::-1])\n",
    "    #printG(G)\n",
    "    idx = np.array(range(nV),dtype=np.uint8)\n",
    "    for i in range(nV):\n",
    "        #print(i)\n",
    "        #print(idx)\n",
    "        if idx[i] != rslt[nV-1-i]:\n",
    "            j = np.where(idx == rslt[nV-1-i])[0]\n",
    "            #print('index',i,j,int(idx[i]), int(idx[j]))\n",
    "            swapV(G, V, i, int(j))\n",
    "            idx[i], idx[j] = idx[j], idx[i]\n",
    "        #printG(G)\n",
    "    print(idx)\n",
    "    printG(G)\n",
    "    \n",
    "    return G\n",
    "\n",
    "G = adjG(V)\n",
    "G = revCMKbandredG(G, V)"
   ]
  },
  {
   "cell_type": "code",
   "execution_count": 11,
   "metadata": {},
   "outputs": [
    {
     "data": {
      "image/png": "[encoded data removed]",
      "text/plain": [
       "<Figure size 288x720 with 1 Axes>"
      ]
     },
     "metadata": {},
     "output_type": "display_data"
    }
   ],
   "source": [
    "viewV(V)"
   ]
  },
  {
   "cell_type": "code",
   "execution_count": null,
   "metadata": {},
   "outputs": [],
   "source": []
  }
 ],
 "metadata": {
  "kernelspec": {
   "display_name": "Python [conda env:anaconda3]",
   "language": "python",
   "name": "conda-env-anaconda3-py"
  },
  "language_info": {
   "codemirror_mode": {
    "name": "ipython",
    "version": 3
   },
   "file_extension": ".py",
   "mimetype": "text/x-python",
   "name": "python",
   "nbconvert_exporter": "python",
   "pygments_lexer": "ipython3",
   "version": "3.5.5"
  }
 },
 "nbformat": 4,
 "nbformat_minor": 2
}
