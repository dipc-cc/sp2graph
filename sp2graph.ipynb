{
 "cells": [
  {
   "cell_type": "code",
   "execution_count": 1,
   "metadata": {},
   "outputs": [],
   "source": [
    "from __future__ import print_function\n",
    "import numpy as np\n",
    "import matplotlib.pyplot as plt"
   ]
  },
  {
   "cell_type": "code",
   "execution_count": 2,
   "metadata": {},
   "outputs": [],
   "source": [
    "syscoord = 'examples/phenanthrene_rot.xyz'"
   ]
  },
  {
   "cell_type": "code",
   "execution_count": 3,
   "metadata": {},
   "outputs": [
    {
     "name": "stdout",
     "output_type": "stream",
     "text": [
      "[[ 17.16445485  17.58356989   5.55602069]\n",
      " [ 18.42306402  18.0069131    5.99951082]\n",
      " [ 20.75399114  12.44073318   6.90748645]\n",
      " [ 22.01260031  12.86407639   7.35097658]\n",
      " [ 17.55612379  13.90518737   5.74601397]\n",
      " [ 18.52575288  12.96128867   6.10500514]\n",
      " [ 19.78436205  13.38463188   6.54849527]\n",
      " [ 20.07334213  14.75187379   6.63299422]\n",
      " [ 21.33195129  15.175217     7.07648435]\n",
      " [ 22.30158038  14.23131829   7.43547553]\n",
      " [ 16.87547478  16.21632799   5.47152174]\n",
      " [ 17.84510387  15.27242928   5.83051292]\n",
      " [ 19.10371304  15.69577249   6.27400305]\n",
      " [ 19.39269311  17.0630144    6.358502  ]]\n"
     ]
    }
   ],
   "source": [
    "# Read the geometry (only Cs)\n",
    "f = open(syscoord)\n",
    "for l in f:\n",
    "    row = l.split()\n",
    "    nV = int(row[0])\n",
    "    f.next()\n",
    "    break\n",
    "V = np.empty(shape=[0,3])\n",
    "for l in f:\n",
    "    row = l.split()\n",
    "    if row[0] == 'C':\n",
    "        V = np.append(V, [[row[1], row[2], row[3]]], axis=0)\n",
    "f.close()\n",
    "V = V.astype(np.float64)\n",
    "nV = len(V)\n",
    "print(V)"
   ]
  },
  {
   "cell_type": "code",
   "execution_count": 4,
   "metadata": {},
   "outputs": [
    {
     "name": "stdout",
     "output_type": "stream",
     "text": [
      "[[ 22.50804674 -11.31196143]\n",
      " [ 23.90804674 -11.31196143]\n",
      " [ 24.60804675  -5.24978362]\n",
      " [ 26.00804675  -5.24978362]\n",
      " [ 21.80804674  -7.67465474]\n",
      " [ 22.50804674  -6.46221918]\n",
      " [ 23.90804674  -6.46221918]\n",
      " [ 24.60804675  -7.67465474]\n",
      " [ 26.00804674  -7.67465475]\n",
      " [ 26.70804674  -6.46221917]\n",
      " [ 21.80804675 -10.09952588]\n",
      " [ 22.50804675  -8.8870903 ]\n",
      " [ 23.90804675  -8.8870903 ]\n",
      " [ 24.60804675 -10.09952587]]\n"
     ]
    }
   ],
   "source": [
    "# rotate to the xy plane if needed\n",
    "def aunit(array):\n",
    "    \"\"\" Returns the unit array \"\"\"\n",
    "    return array / np.linalg.norm(array)\n",
    "\n",
    "def aangle(a1, a2):\n",
    "    \"\"\" Returns the angle in radians between arrays 'a1' and 'a2' \"\"\"\n",
    "    a1_u = aunit(a1)\n",
    "    a2_u = aunit(a2)\n",
    "    return np.arccos(np.clip(np.dot(a1_u, a2_u), -1.0, 1.0))\n",
    "\n",
    "def axyproj(array):\n",
    "    \"\"\" Returns the an equiarrayalent 2D structure rotated to the xy plane \"\"\"\n",
    "    u1 = aunit(array[1]-array[0])\n",
    "    u2 = array[2]-array[0]\n",
    "    u3 = aunit(np.cross(u1, u2))\n",
    "    u2 = aunit(np.cross(u3, u1))\n",
    "    proj = np.linalg.inv([u1, u2, u3])\n",
    "    array = np.matmul(array, proj)\n",
    "    if np.max(array[:,2])-np.min(array[:,2]) > 0.01:\n",
    "        raise ValueError('Structure is not planar!')\n",
    "    return np.delete(array, 2, axis=1)\n",
    "\n",
    "V = axyproj(V)\n",
    "print(V)"
   ]
  },
  {
   "cell_type": "code",
   "execution_count": 5,
   "metadata": {},
   "outputs": [
    {
     "data": {
      "image/png": "[encoded data removed]",
      "text/plain": [
       "<matplotlib.figure.Figure at 0x15170e9bf4d0>"
      ]
     },
     "metadata": {},
     "output_type": "display_data"
    }
   ],
   "source": [
    "# visualize the structure\n",
    "f, axs = plt.subplots(1, 1, figsize=(4, 10))\n",
    "lb_x = V[:,0]\n",
    "for j in range(nV):\n",
    "    axs.scatter(V[j,0], V[j,1], s=200, c='black',\n",
    "                marker=r\"$ {} $\".format(str(j)), edgecolors='none')\n",
    "    axs.scatter(V[j,0], V[j,1], s=1000, c='b', alpha=.5)\n",
    "axs.set_xlim(min(V[:,0])-2., max(V[:,0])+2.);\n",
    "axs.set_ylim(min(V[:,1])-2., max(V[:,1])+2.);\n",
    "axs.set_xlabel('x [Ang]'); axs.set_ylabel('y [Ang]'); axs.set_aspect('equal');"
   ]
  },
  {
   "cell_type": "code",
   "execution_count": 6,
   "metadata": {},
   "outputs": [
    {
     "name": "stdout",
     "output_type": "stream",
     "text": [
      "  0 1 2 3 4 5 6 7 8 910111213\n",
      "[[1 1 0 0 0 0 0 0 0 0 1 0 0 0]\n",
      " [1 1 0 0 0 0 0 0 0 0 0 0 0 1]\n",
      " [0 0 1 1 0 0 1 0 0 0 0 0 0 0]\n",
      " [0 0 1 1 0 0 0 0 0 1 0 0 0 0]\n",
      " [0 0 0 0 1 1 0 0 0 0 0 1 0 0]\n",
      " [0 0 0 0 1 1 1 0 0 0 0 0 0 0]\n",
      " [0 0 1 0 0 1 0 1 0 0 0 0 0 0]\n",
      " [0 0 0 0 0 0 1 0 1 0 0 0 1 0]\n",
      " [0 0 0 0 0 0 0 1 1 1 0 0 0 0]\n",
      " [0 0 0 1 0 0 0 0 1 1 0 0 0 0]\n",
      " [1 0 0 0 0 0 0 0 0 0 1 1 0 0]\n",
      " [0 0 0 0 1 0 0 0 0 0 1 0 1 0]\n",
      " [0 0 0 0 0 0 0 1 0 0 0 1 0 1]\n",
      " [0 1 0 0 0 0 0 0 0 0 0 0 1 1]]\n"
     ]
    }
   ],
   "source": [
    "# build the first-neighbours Hamiltonian\n",
    "def close(iv, V, rad):\n",
    "    \"\"\" Returns an array off 1st neighbours indexes \"\"\"\n",
    "    idx = np.empty(shape=[0], dtype=np.int32)\n",
    "    for i in range(iv):\n",
    "        if np.linalg.norm(V[i]-V[iv]) < rad:\n",
    "            idx = np.append(idx, [[i]])\n",
    "    for i in range(iv+1,len(V)):\n",
    "        if np.linalg.norm(V[i]-V[iv]) < rad:\n",
    "            idx = np.append(idx, [[i]])\n",
    "    return idx\n",
    "\n",
    "H = np.zeros(shape=[nV, nV], dtype=np.uint8)\n",
    "for i in range(nV):\n",
    "    # list nearest neighbours\n",
    "    idx = close(i, V, 1.43)\n",
    "    # nearest neighbours hopping\n",
    "    H[i, idx] = 1\n",
    "    # put 1 in the diagonal when necessary\n",
    "    H[i, i] = 3-len(idx)\n",
    "\n",
    "print(' ', end='')\n",
    "for i in range(nV):\n",
    "    print('%2d'%i, end='')\n",
    "print('')\n",
    "print(H)"
   ]
  },
  {
   "cell_type": "code",
   "execution_count": null,
   "metadata": {},
   "outputs": [],
   "source": []
  }
 ],
 "metadata": {
  "kernelspec": {
   "display_name": "Python [default]",
   "language": "python",
   "name": "python2"
  },
  "language_info": {
   "codemirror_mode": {
    "name": "ipython",
    "version": 2
   },
   "file_extension": ".py",
   "mimetype": "text/x-python",
   "name": "python",
   "nbconvert_exporter": "python",
   "pygments_lexer": "ipython2",
   "version": "2.7.15"
  }
 },
 "nbformat": 4,
 "nbformat_minor": 2
}
