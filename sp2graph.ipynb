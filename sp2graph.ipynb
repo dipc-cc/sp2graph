{
 "cells": [
  {
   "cell_type": "code",
   "execution_count": 1,
   "metadata": {},
   "outputs": [],
   "source": [
    "from __future__ import print_function\n",
    "import numpy as np\n",
    "import matplotlib.pyplot as plt\n",
    "import sisl"
   ]
  },
  {
   "cell_type": "code",
   "execution_count": 2,
   "metadata": {},
   "outputs": [],
   "source": [
    "syscoord = 'phenanthrene.xyz'"
   ]
  },
  {
   "cell_type": "markdown",
   "metadata": {},
   "source": [
    "Not sure if we should use sisl. We could for instance read the xyz file excluding alreay the hydrogen atoms."
   ]
  },
  {
   "cell_type": "code",
   "execution_count": 3,
   "metadata": {},
   "outputs": [
    {
     "name": "stdout",
     "output_type": "stream",
     "text": [
      "Geometry{na: 24, no: 24,\n",
      " Atoms{species: 2,\n",
      "  Atom{H, Z: 1, mass(au): 1.0079, maxR: -1.00000,\n",
      "   Orbital{R: -1, q0: 0.0}\n",
      "  }: 10,\n",
      "  Atom{C, Z: 6, mass(au): 12.011, maxR: -1.00000,\n",
      "   Orbital{R: -1, q0: 0.0}\n",
      "  }: 14,\n",
      " },\n",
      " nsc: [1, 1, 1], maxR: -1\n",
      "}\n"
     ]
    }
   ],
   "source": [
    "# Read geometry from 'xyz' file\n",
    "geom = sisl.Geometry.read(syscoord)\n",
    "print(geom)"
   ]
  },
  {
   "cell_type": "code",
   "execution_count": 4,
   "metadata": {
    "scrolled": true
   },
   "outputs": [
    {
     "name": "stdout",
     "output_type": "stream",
     "text": [
      "Geometry{na: 14, no: 14,\n",
      " Atoms{species: 1,\n",
      "  Atom{C, Z: 6, mass(au): 12.011, maxR: -1.00000,\n",
      "   Orbital{R: -1, q0: 0.0}\n",
      "  }: 14,\n",
      " },\n",
      " nsc: [1, 1, 1], maxR: -1\n",
      "}\n"
     ]
    }
   ],
   "source": [
    "# remove hydrogen atoms\n",
    "rmidx = np.where(geom.atoms.specie == 0)\n",
    "system = sisl.Geometry(geom.remove(rmidx).xyz, sisl.Atom('C'))\n",
    "print(system)"
   ]
  },
  {
   "cell_type": "code",
   "execution_count": 5,
   "metadata": {},
   "outputs": [
    {
     "name": "stdout",
     "output_type": "stream",
     "text": [
      "Hamiltonian{non-zero: 0, orthogonal: True,\n",
      " Spin{unpolarized, kind=f},\n",
      " Geometry{na: 14, no: 14,\n",
      "  Atoms{species: 1,\n",
      "   Atom{C, Z: 6, mass(au): 12.011, maxR: -1.00000,\n",
      "    Orbital{R: -1, q0: 0.0}\n",
      "   }: 14,\n",
      "  },\n",
      "  nsc: [1, 1, 1], maxR: -1\n",
      " }\n",
      "}\n"
     ]
    }
   ],
   "source": [
    "# create a Hamiltonian object\n",
    "Hsisl = sisl.Hamiltonian(system)\n",
    "print(Hsisl)"
   ]
  },
  {
   "cell_type": "code",
   "execution_count": 6,
   "metadata": {},
   "outputs": [],
   "source": [
    "# build the first-neighbours Hamiltonian\n",
    "for ia, io in Hsisl: # over all atoms and orbitals\n",
    "    # list nearest neighbours\n",
    "    idx = Hsisl.geom.close(ia, R = [0.1, 1.43])\n",
    "    # on-site energy\n",
    "    Hsisl[io, idx[0]] = 0\n",
    "    # nearest-neighbour hopping\n",
    "    Hsisl[io, idx[1]] = 1\n",
    "    # put 1 in the diagonal when necessary\n",
    "    Hsisl[io, io] = 3-len(idx[1])"
   ]
  },
  {
   "cell_type": "code",
   "execution_count": 7,
   "metadata": {},
   "outputs": [
    {
     "name": "stdout",
     "output_type": "stream",
     "text": [
      "  0 1 2 3 4 5 6 7 8 910111213\n",
      "[[1 1 0 0 0 0 0 0 0 0 1 0 0 0]\n",
      " [1 1 0 0 0 0 0 0 0 0 0 0 0 1]\n",
      " [0 0 1 1 0 0 1 0 0 0 0 0 0 0]\n",
      " [0 0 1 1 0 0 0 0 0 1 0 0 0 0]\n",
      " [0 0 0 0 1 1 0 0 0 0 0 1 0 0]\n",
      " [0 0 0 0 1 1 1 0 0 0 0 0 0 0]\n",
      " [0 0 1 0 0 1 0 1 0 0 0 0 0 0]\n",
      " [0 0 0 0 0 0 1 0 1 0 0 0 1 0]\n",
      " [0 0 0 0 0 0 0 1 1 1 0 0 0 0]\n",
      " [0 0 0 1 0 0 0 0 1 1 0 0 0 0]\n",
      " [1 0 0 0 0 0 0 0 0 0 1 1 0 0]\n",
      " [0 0 0 0 1 0 0 0 0 0 1 0 1 0]\n",
      " [0 0 0 0 0 0 0 1 0 0 0 1 0 1]\n",
      " [0 1 0 0 0 0 0 0 0 0 0 0 1 1]]\n"
     ]
    }
   ],
   "source": [
    "# get an dense matrix of integers from sisl\n",
    "H = Hsisl.Hk(format='dense').astype(int)\n",
    "print(' ', end='')\n",
    "for i in range(len(H)):\n",
    "    print('%2d'%i, end='')\n",
    "print('')\n",
    "print(H)"
   ]
  },
  {
   "cell_type": "code",
   "execution_count": 8,
   "metadata": {},
   "outputs": [
    {
     "data": {
      "image/png": "[encoded data removed]",
      "text/plain": [
       "<matplotlib.figure.Figure at 0x146a2516a190>"
      ]
     },
     "metadata": {},
     "output_type": "display_data"
    }
   ],
   "source": [
    "# visualize the structure (in the xz plane)\n",
    "f, axs = plt.subplots(1, 1, figsize=(4, 10))\n",
    "lb_x = system.xyz[:,0]\n",
    "for j in range(len(H)):\n",
    "    axs.scatter(system.xyz[j,2], lb_x[j], s=200, c='black',\n",
    "                marker=r\"$ {} $\".format(str(j)), edgecolors='none')\n",
    "    axs.scatter(system.xyz[j,2], system.xyz[j,0], s=1000, c='b', alpha=.5)\n",
    "axs.set_xlim(min(system.xyz[:,2])-2., max(system.xyz[:,2])+2.);\n",
    "axs.set_ylim(min(system.xyz[:,0])-2., max(system.xyz[:,0])+2.);\n",
    "axs.set_xlabel('z [Ang]'); axs.set_ylabel('x [Ang]'); axs.set_aspect('equal');"
   ]
  },
  {
   "cell_type": "code",
   "execution_count": null,
   "metadata": {},
   "outputs": [],
   "source": []
  }
 ],
 "metadata": {
  "kernelspec": {
   "display_name": "Python [default]",
   "language": "python",
   "name": "python2"
  },
  "language_info": {
   "codemirror_mode": {
    "name": "ipython",
    "version": 2
   },
   "file_extension": ".py",
   "mimetype": "text/x-python",
   "name": "python",
   "nbconvert_exporter": "python",
   "pygments_lexer": "ipython2",
   "version": "2.7.15"
  }
 },
 "nbformat": 4,
 "nbformat_minor": 2
}
